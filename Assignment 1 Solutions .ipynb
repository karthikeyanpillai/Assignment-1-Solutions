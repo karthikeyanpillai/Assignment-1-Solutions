{
 "cells": [
  {
   "cell_type": "markdown",
   "id": "f3c5b2c9",
   "metadata": {
    "ExecuteTime": {
     "end_time": "2022-12-24T12:49:59.586728Z",
     "start_time": "2022-12-24T12:49:59.568337Z"
    }
   },
   "source": [
    "# ASSIGNMENT 1"
   ]
  },
  {
   "cell_type": "markdown",
   "id": "cc707ee2",
   "metadata": {},
   "source": [
    "# Question-7"
   ]
  },
  {
   "cell_type": "code",
   "execution_count": 19,
   "id": "e1160721",
   "metadata": {
    "ExecuteTime": {
     "end_time": "2022-12-24T13:05:58.997107Z",
     "start_time": "2022-12-24T13:05:58.981108Z"
    }
   },
   "outputs": [],
   "source": [
    "import warnings\n",
    "warnings.filterwarnings(\"ignore\")"
   ]
  },
  {
   "cell_type": "code",
   "execution_count": 20,
   "id": "9a7489c9",
   "metadata": {
    "ExecuteTime": {
     "end_time": "2022-12-24T13:05:59.013121Z",
     "start_time": "2022-12-24T13:05:58.999107Z"
    }
   },
   "outputs": [],
   "source": [
    "import pandas as pd\n",
    "import numpy as np"
   ]
  },
  {
   "cell_type": "code",
   "execution_count": 21,
   "id": "1580f581",
   "metadata": {
    "ExecuteTime": {
     "end_time": "2022-12-24T13:05:59.028621Z",
     "start_time": "2022-12-24T13:05:59.015111Z"
    }
   },
   "outputs": [],
   "source": [
    "import matplotlib.pyplot as plt\n",
    "import seaborn as sn"
   ]
  },
  {
   "cell_type": "code",
   "execution_count": 22,
   "id": "f52bd014",
   "metadata": {
    "ExecuteTime": {
     "end_time": "2022-12-24T13:05:59.044651Z",
     "start_time": "2022-12-24T13:05:59.030620Z"
    }
   },
   "outputs": [],
   "source": [
    "q7=pd.read_csv(\"Q7.csv\")"
   ]
  },
  {
   "cell_type": "code",
   "execution_count": 23,
   "id": "c3faa80c",
   "metadata": {
    "ExecuteTime": {
     "end_time": "2022-12-24T13:05:59.060642Z",
     "start_time": "2022-12-24T13:05:59.046620Z"
    }
   },
   "outputs": [
    {
     "data": {
      "text/plain": [
       "Points     3.596563\n",
       "Score      3.217250\n",
       "Weigh     17.848750\n",
       "dtype: float64"
      ]
     },
     "execution_count": 23,
     "metadata": {},
     "output_type": "execute_result"
    }
   ],
   "source": [
    "q7.mean()"
   ]
  },
  {
   "cell_type": "code",
   "execution_count": 24,
   "id": "57b12e0e",
   "metadata": {
    "ExecuteTime": {
     "end_time": "2022-12-24T13:05:59.076621Z",
     "start_time": "2022-12-24T13:05:59.061621Z"
    }
   },
   "outputs": [
    {
     "data": {
      "text/plain": [
       "Points     3.695\n",
       "Score      3.325\n",
       "Weigh     17.710\n",
       "dtype: float64"
      ]
     },
     "execution_count": 24,
     "metadata": {},
     "output_type": "execute_result"
    }
   ],
   "source": [
    "q7.median()"
   ]
  },
  {
   "cell_type": "code",
   "execution_count": 25,
   "id": "c41cb504",
   "metadata": {
    "ExecuteTime": {
     "end_time": "2022-12-24T13:05:59.092642Z",
     "start_time": "2022-12-24T13:05:59.078620Z"
    }
   },
   "outputs": [
    {
     "data": {
      "text/html": [
       "<div>\n",
       "<style scoped>\n",
       "    .dataframe tbody tr th:only-of-type {\n",
       "        vertical-align: middle;\n",
       "    }\n",
       "\n",
       "    .dataframe tbody tr th {\n",
       "        vertical-align: top;\n",
       "    }\n",
       "\n",
       "    .dataframe thead th {\n",
       "        text-align: right;\n",
       "    }\n",
       "</style>\n",
       "<table border=\"1\" class=\"dataframe\">\n",
       "  <thead>\n",
       "    <tr style=\"text-align: right;\">\n",
       "      <th></th>\n",
       "      <th>Unnamed: 0</th>\n",
       "      <th>Points</th>\n",
       "      <th>Score</th>\n",
       "      <th>Weigh</th>\n",
       "    </tr>\n",
       "  </thead>\n",
       "  <tbody>\n",
       "    <tr>\n",
       "      <th>0</th>\n",
       "      <td>AMC Javelin</td>\n",
       "      <td>3.07</td>\n",
       "      <td>3.44</td>\n",
       "      <td>17.02</td>\n",
       "    </tr>\n",
       "    <tr>\n",
       "      <th>1</th>\n",
       "      <td>Cadillac Fleetwood</td>\n",
       "      <td>3.92</td>\n",
       "      <td>NaN</td>\n",
       "      <td>18.90</td>\n",
       "    </tr>\n",
       "    <tr>\n",
       "      <th>2</th>\n",
       "      <td>Camaro Z28</td>\n",
       "      <td>NaN</td>\n",
       "      <td>NaN</td>\n",
       "      <td>NaN</td>\n",
       "    </tr>\n",
       "    <tr>\n",
       "      <th>3</th>\n",
       "      <td>Chrysler Imperial</td>\n",
       "      <td>NaN</td>\n",
       "      <td>NaN</td>\n",
       "      <td>NaN</td>\n",
       "    </tr>\n",
       "    <tr>\n",
       "      <th>4</th>\n",
       "      <td>Datsun 710</td>\n",
       "      <td>NaN</td>\n",
       "      <td>NaN</td>\n",
       "      <td>NaN</td>\n",
       "    </tr>\n",
       "    <tr>\n",
       "      <th>5</th>\n",
       "      <td>Dodge Challenger</td>\n",
       "      <td>NaN</td>\n",
       "      <td>NaN</td>\n",
       "      <td>NaN</td>\n",
       "    </tr>\n",
       "    <tr>\n",
       "      <th>6</th>\n",
       "      <td>Duster 360</td>\n",
       "      <td>NaN</td>\n",
       "      <td>NaN</td>\n",
       "      <td>NaN</td>\n",
       "    </tr>\n",
       "    <tr>\n",
       "      <th>7</th>\n",
       "      <td>Ferrari Dino</td>\n",
       "      <td>NaN</td>\n",
       "      <td>NaN</td>\n",
       "      <td>NaN</td>\n",
       "    </tr>\n",
       "    <tr>\n",
       "      <th>8</th>\n",
       "      <td>Fiat 128</td>\n",
       "      <td>NaN</td>\n",
       "      <td>NaN</td>\n",
       "      <td>NaN</td>\n",
       "    </tr>\n",
       "    <tr>\n",
       "      <th>9</th>\n",
       "      <td>Fiat X1-9</td>\n",
       "      <td>NaN</td>\n",
       "      <td>NaN</td>\n",
       "      <td>NaN</td>\n",
       "    </tr>\n",
       "    <tr>\n",
       "      <th>10</th>\n",
       "      <td>Ford Pantera L</td>\n",
       "      <td>NaN</td>\n",
       "      <td>NaN</td>\n",
       "      <td>NaN</td>\n",
       "    </tr>\n",
       "    <tr>\n",
       "      <th>11</th>\n",
       "      <td>Honda Civic</td>\n",
       "      <td>NaN</td>\n",
       "      <td>NaN</td>\n",
       "      <td>NaN</td>\n",
       "    </tr>\n",
       "    <tr>\n",
       "      <th>12</th>\n",
       "      <td>Hornet 4 Drive</td>\n",
       "      <td>NaN</td>\n",
       "      <td>NaN</td>\n",
       "      <td>NaN</td>\n",
       "    </tr>\n",
       "    <tr>\n",
       "      <th>13</th>\n",
       "      <td>Hornet Sportabout</td>\n",
       "      <td>NaN</td>\n",
       "      <td>NaN</td>\n",
       "      <td>NaN</td>\n",
       "    </tr>\n",
       "    <tr>\n",
       "      <th>14</th>\n",
       "      <td>Lincoln Continental</td>\n",
       "      <td>NaN</td>\n",
       "      <td>NaN</td>\n",
       "      <td>NaN</td>\n",
       "    </tr>\n",
       "    <tr>\n",
       "      <th>15</th>\n",
       "      <td>Lotus Europa</td>\n",
       "      <td>NaN</td>\n",
       "      <td>NaN</td>\n",
       "      <td>NaN</td>\n",
       "    </tr>\n",
       "    <tr>\n",
       "      <th>16</th>\n",
       "      <td>Maserati Bora</td>\n",
       "      <td>NaN</td>\n",
       "      <td>NaN</td>\n",
       "      <td>NaN</td>\n",
       "    </tr>\n",
       "    <tr>\n",
       "      <th>17</th>\n",
       "      <td>Mazda RX4</td>\n",
       "      <td>NaN</td>\n",
       "      <td>NaN</td>\n",
       "      <td>NaN</td>\n",
       "    </tr>\n",
       "    <tr>\n",
       "      <th>18</th>\n",
       "      <td>Mazda RX4 Wag</td>\n",
       "      <td>NaN</td>\n",
       "      <td>NaN</td>\n",
       "      <td>NaN</td>\n",
       "    </tr>\n",
       "    <tr>\n",
       "      <th>19</th>\n",
       "      <td>Merc 230</td>\n",
       "      <td>NaN</td>\n",
       "      <td>NaN</td>\n",
       "      <td>NaN</td>\n",
       "    </tr>\n",
       "    <tr>\n",
       "      <th>20</th>\n",
       "      <td>Merc 240D</td>\n",
       "      <td>NaN</td>\n",
       "      <td>NaN</td>\n",
       "      <td>NaN</td>\n",
       "    </tr>\n",
       "    <tr>\n",
       "      <th>21</th>\n",
       "      <td>Merc 280</td>\n",
       "      <td>NaN</td>\n",
       "      <td>NaN</td>\n",
       "      <td>NaN</td>\n",
       "    </tr>\n",
       "    <tr>\n",
       "      <th>22</th>\n",
       "      <td>Merc 280C</td>\n",
       "      <td>NaN</td>\n",
       "      <td>NaN</td>\n",
       "      <td>NaN</td>\n",
       "    </tr>\n",
       "    <tr>\n",
       "      <th>23</th>\n",
       "      <td>Merc 450SE</td>\n",
       "      <td>NaN</td>\n",
       "      <td>NaN</td>\n",
       "      <td>NaN</td>\n",
       "    </tr>\n",
       "    <tr>\n",
       "      <th>24</th>\n",
       "      <td>Merc 450SL</td>\n",
       "      <td>NaN</td>\n",
       "      <td>NaN</td>\n",
       "      <td>NaN</td>\n",
       "    </tr>\n",
       "    <tr>\n",
       "      <th>25</th>\n",
       "      <td>Merc 450SLC</td>\n",
       "      <td>NaN</td>\n",
       "      <td>NaN</td>\n",
       "      <td>NaN</td>\n",
       "    </tr>\n",
       "    <tr>\n",
       "      <th>26</th>\n",
       "      <td>Pontiac Firebird</td>\n",
       "      <td>NaN</td>\n",
       "      <td>NaN</td>\n",
       "      <td>NaN</td>\n",
       "    </tr>\n",
       "    <tr>\n",
       "      <th>27</th>\n",
       "      <td>Porsche 914-2</td>\n",
       "      <td>NaN</td>\n",
       "      <td>NaN</td>\n",
       "      <td>NaN</td>\n",
       "    </tr>\n",
       "    <tr>\n",
       "      <th>28</th>\n",
       "      <td>Toyota Corolla</td>\n",
       "      <td>NaN</td>\n",
       "      <td>NaN</td>\n",
       "      <td>NaN</td>\n",
       "    </tr>\n",
       "    <tr>\n",
       "      <th>29</th>\n",
       "      <td>Toyota Corona</td>\n",
       "      <td>NaN</td>\n",
       "      <td>NaN</td>\n",
       "      <td>NaN</td>\n",
       "    </tr>\n",
       "    <tr>\n",
       "      <th>30</th>\n",
       "      <td>Valiant</td>\n",
       "      <td>NaN</td>\n",
       "      <td>NaN</td>\n",
       "      <td>NaN</td>\n",
       "    </tr>\n",
       "    <tr>\n",
       "      <th>31</th>\n",
       "      <td>Volvo 142E</td>\n",
       "      <td>NaN</td>\n",
       "      <td>NaN</td>\n",
       "      <td>NaN</td>\n",
       "    </tr>\n",
       "  </tbody>\n",
       "</table>\n",
       "</div>"
      ],
      "text/plain": [
       "             Unnamed: 0  Points  Score  Weigh\n",
       "0           AMC Javelin    3.07   3.44  17.02\n",
       "1    Cadillac Fleetwood    3.92    NaN  18.90\n",
       "2            Camaro Z28     NaN    NaN    NaN\n",
       "3     Chrysler Imperial     NaN    NaN    NaN\n",
       "4            Datsun 710     NaN    NaN    NaN\n",
       "5      Dodge Challenger     NaN    NaN    NaN\n",
       "6            Duster 360     NaN    NaN    NaN\n",
       "7          Ferrari Dino     NaN    NaN    NaN\n",
       "8              Fiat 128     NaN    NaN    NaN\n",
       "9             Fiat X1-9     NaN    NaN    NaN\n",
       "10       Ford Pantera L     NaN    NaN    NaN\n",
       "11          Honda Civic     NaN    NaN    NaN\n",
       "12       Hornet 4 Drive     NaN    NaN    NaN\n",
       "13    Hornet Sportabout     NaN    NaN    NaN\n",
       "14  Lincoln Continental     NaN    NaN    NaN\n",
       "15         Lotus Europa     NaN    NaN    NaN\n",
       "16        Maserati Bora     NaN    NaN    NaN\n",
       "17            Mazda RX4     NaN    NaN    NaN\n",
       "18        Mazda RX4 Wag     NaN    NaN    NaN\n",
       "19             Merc 230     NaN    NaN    NaN\n",
       "20            Merc 240D     NaN    NaN    NaN\n",
       "21             Merc 280     NaN    NaN    NaN\n",
       "22            Merc 280C     NaN    NaN    NaN\n",
       "23           Merc 450SE     NaN    NaN    NaN\n",
       "24           Merc 450SL     NaN    NaN    NaN\n",
       "25          Merc 450SLC     NaN    NaN    NaN\n",
       "26     Pontiac Firebird     NaN    NaN    NaN\n",
       "27        Porsche 914-2     NaN    NaN    NaN\n",
       "28       Toyota Corolla     NaN    NaN    NaN\n",
       "29        Toyota Corona     NaN    NaN    NaN\n",
       "30              Valiant     NaN    NaN    NaN\n",
       "31           Volvo 142E     NaN    NaN    NaN"
      ]
     },
     "execution_count": 25,
     "metadata": {},
     "output_type": "execute_result"
    }
   ],
   "source": [
    "q7.mode()"
   ]
  },
  {
   "cell_type": "code",
   "execution_count": 26,
   "id": "043d7329",
   "metadata": {
    "ExecuteTime": {
     "end_time": "2022-12-24T13:05:59.108663Z",
     "start_time": "2022-12-24T13:05:59.093621Z"
    }
   },
   "outputs": [
    {
     "data": {
      "text/plain": [
       "Points    0.285881\n",
       "Score     0.957379\n",
       "Weigh     3.193166\n",
       "dtype: float64"
      ]
     },
     "execution_count": 26,
     "metadata": {},
     "output_type": "execute_result"
    }
   ],
   "source": [
    "q7.var()"
   ]
  },
  {
   "cell_type": "code",
   "execution_count": 27,
   "id": "3e67344e",
   "metadata": {
    "ExecuteTime": {
     "end_time": "2022-12-24T13:05:59.124206Z",
     "start_time": "2022-12-24T13:05:59.110664Z"
    }
   },
   "outputs": [
    {
     "data": {
      "text/plain": [
       "Points    0.534679\n",
       "Score     0.978457\n",
       "Weigh     1.786943\n",
       "dtype: float64"
      ]
     },
     "execution_count": 27,
     "metadata": {},
     "output_type": "execute_result"
    }
   ],
   "source": [
    "q7.std()"
   ]
  },
  {
   "cell_type": "code",
   "execution_count": 28,
   "id": "ff866c41",
   "metadata": {
    "ExecuteTime": {
     "end_time": "2022-12-24T13:05:59.139951Z",
     "start_time": "2022-12-24T13:05:59.126209Z"
    }
   },
   "outputs": [
    {
     "data": {
      "text/plain": [
       "Unnamed: 0    Volvo 142E\n",
       "Points              4.93\n",
       "Score              5.424\n",
       "Weigh               22.9\n",
       "dtype: object"
      ]
     },
     "execution_count": 28,
     "metadata": {},
     "output_type": "execute_result"
    }
   ],
   "source": [
    "q7.max()"
   ]
  },
  {
   "cell_type": "code",
   "execution_count": 29,
   "id": "c1758691",
   "metadata": {
    "ExecuteTime": {
     "end_time": "2022-12-24T13:05:59.155952Z",
     "start_time": "2022-12-24T13:05:59.140951Z"
    }
   },
   "outputs": [
    {
     "data": {
      "text/plain": [
       "Unnamed: 0    AMC Javelin\n",
       "Points               2.76\n",
       "Score               1.513\n",
       "Weigh                14.5\n",
       "dtype: object"
      ]
     },
     "execution_count": 29,
     "metadata": {},
     "output_type": "execute_result"
    }
   ],
   "source": [
    "q7.min()"
   ]
  },
  {
   "cell_type": "code",
   "execution_count": 30,
   "id": "6756cba9",
   "metadata": {
    "ExecuteTime": {
     "end_time": "2022-12-24T13:05:59.171381Z",
     "start_time": "2022-12-24T13:05:59.158346Z"
    }
   },
   "outputs": [
    {
     "data": {
      "text/plain": [
       "2.17"
      ]
     },
     "execution_count": 30,
     "metadata": {},
     "output_type": "execute_result"
    }
   ],
   "source": [
    "# Range = max value of column-Min value of that column.\n",
    "q7['Points'].max()-q7['Points'].min()\n",
    "#Therefore range of points is 2.17"
   ]
  },
  {
   "cell_type": "code",
   "execution_count": 31,
   "id": "36ff4034",
   "metadata": {
    "ExecuteTime": {
     "end_time": "2022-12-24T13:05:59.187353Z",
     "start_time": "2022-12-24T13:05:59.172352Z"
    }
   },
   "outputs": [
    {
     "data": {
      "text/plain": [
       "range"
      ]
     },
     "execution_count": 31,
     "metadata": {},
     "output_type": "execute_result"
    }
   ],
   "source": [
    "range"
   ]
  },
  {
   "cell_type": "code",
   "execution_count": 32,
   "id": "495f783a",
   "metadata": {
    "ExecuteTime": {
     "end_time": "2022-12-24T13:05:59.203355Z",
     "start_time": "2022-12-24T13:05:59.189352Z"
    }
   },
   "outputs": [
    {
     "data": {
      "text/plain": [
       "8.399999999999999"
      ]
     },
     "execution_count": 32,
     "metadata": {},
     "output_type": "execute_result"
    }
   ],
   "source": [
    "# Range = max value of column-Min value of that column.\n",
    "q7['Weigh'].max()-q7['Weigh'].min()\n",
    "# Therefore range of Weigh is 8.3999"
   ]
  },
  {
   "cell_type": "code",
   "execution_count": 34,
   "id": "67931acb",
   "metadata": {
    "ExecuteTime": {
     "end_time": "2022-12-24T13:09:02.527597Z",
     "start_time": "2022-12-24T13:09:02.455592Z"
    }
   },
   "outputs": [
    {
     "data": {
      "image/png": "[encoded data removed]",
      "text/plain": [
       "<Figure size 640x480 with 1 Axes>"
      ]
     },
     "metadata": {},
     "output_type": "display_data"
    }
   ],
   "source": [
    "# Graph shows the distribution of Points,Score,Weigh\n",
    "q7.plot()\n",
    "plt.show()"
   ]
  },
  {
   "cell_type": "markdown",
   "id": "49e0e10e",
   "metadata": {},
   "source": [
    "#  --------------------------------------------------------------------------------------------------------------"
   ]
  },
  {
   "cell_type": "markdown",
   "id": "2f294f6e",
   "metadata": {},
   "source": [
    "#  Question-8"
   ]
  },
  {
   "cell_type": "code",
   "execution_count": 56,
   "id": "595c225c",
   "metadata": {
    "ExecuteTime": {
     "end_time": "2022-12-24T13:51:08.775865Z",
     "start_time": "2022-12-24T13:51:08.768346Z"
    }
   },
   "outputs": [],
   "source": [
    "# weight of patients\n",
    "wpatients=np.array([108,110,123,135,145,167,187,199])"
   ]
  },
  {
   "cell_type": "code",
   "execution_count": 58,
   "id": "6ddb2097",
   "metadata": {
    "ExecuteTime": {
     "end_time": "2022-12-24T13:52:06.970522Z",
     "start_time": "2022-12-24T13:52:06.962870Z"
    }
   },
   "outputs": [
    {
     "data": {
      "text/plain": [
       "146.75"
      ]
     },
     "execution_count": 58,
     "metadata": {},
     "output_type": "execute_result"
    }
   ],
   "source": [
    "wpatients.mean()\n",
    "# weight of one patient when randomly selected from the patients is 146.75"
   ]
  },
  {
   "cell_type": "markdown",
   "id": "ed16a680",
   "metadata": {},
   "source": [
    "#  --------------------------------------------------------------------------------------------------------------"
   ]
  },
  {
   "cell_type": "markdown",
   "id": "ff52466f",
   "metadata": {},
   "source": [
    "# Question-9"
   ]
  },
  {
   "cell_type": "code",
   "execution_count": 35,
   "id": "55f7ef71",
   "metadata": {
    "ExecuteTime": {
     "end_time": "2022-12-24T13:10:23.555026Z",
     "start_time": "2022-12-24T13:10:23.546050Z"
    }
   },
   "outputs": [],
   "source": [
    "q9=pd.read_csv(\"Q9_a.csv\")"
   ]
  },
  {
   "cell_type": "code",
   "execution_count": 36,
   "id": "c050cfdc",
   "metadata": {
    "ExecuteTime": {
     "end_time": "2022-12-24T13:10:42.926551Z",
     "start_time": "2022-12-24T13:10:42.909390Z"
    }
   },
   "outputs": [
    {
     "data": {
      "text/plain": [
       "Index    0.000000\n",
       "speed   -0.117510\n",
       "dist     0.806895\n",
       "dtype: float64"
      ]
     },
     "execution_count": 36,
     "metadata": {},
     "output_type": "execute_result"
    }
   ],
   "source": [
    "q9.skew()"
   ]
  },
  {
   "cell_type": "code",
   "execution_count": 37,
   "id": "75cc0b8f",
   "metadata": {
    "ExecuteTime": {
     "end_time": "2022-12-24T13:10:58.226230Z",
     "start_time": "2022-12-24T13:10:58.210225Z"
    }
   },
   "outputs": [],
   "source": [
    "# speed is left skewed and right biased data,so the value is negative\n",
    "# dist is right skewed and left biased data,so the value is positive\n",
    "# >> The normally distributed skewness value is \"0\""
   ]
  },
  {
   "cell_type": "code",
   "execution_count": 38,
   "id": "8dbf3784",
   "metadata": {
    "ExecuteTime": {
     "end_time": "2022-12-24T13:11:09.895777Z",
     "start_time": "2022-12-24T13:11:09.890773Z"
    }
   },
   "outputs": [
    {
     "data": {
      "text/plain": [
       "Index   -1.200000\n",
       "speed   -0.508994\n",
       "dist     0.405053\n",
       "dtype: float64"
      ]
     },
     "execution_count": 38,
     "metadata": {},
     "output_type": "execute_result"
    }
   ],
   "source": [
    "q9.kurt()"
   ]
  },
  {
   "cell_type": "code",
   "execution_count": 39,
   "id": "e7c1a6ce",
   "metadata": {
    "ExecuteTime": {
     "end_time": "2022-12-24T13:11:26.706356Z",
     "start_time": "2022-12-24T13:11:26.692783Z"
    }
   },
   "outputs": [],
   "source": [
    "# kurtosis of speed column is -0.508\n",
    "# kurtosis of distance column is 0.405\n",
    "# >>Normally distributed kurtosis value is \"3\""
   ]
  },
  {
   "cell_type": "code",
   "execution_count": 40,
   "id": "ac38b1e2",
   "metadata": {
    "ExecuteTime": {
     "end_time": "2022-12-24T13:12:11.402819Z",
     "start_time": "2022-12-24T13:12:11.326519Z"
    }
   },
   "outputs": [
    {
     "data": {
      "image/png": "[encoded data removed]",
      "text/plain": [
       "<Figure size 640x480 with 1 Axes>"
      ]
     },
     "metadata": {},
     "output_type": "display_data"
    }
   ],
   "source": [
    "# Distribution plot of speed\n",
    "sn.distplot(q9['speed'])\n",
    "plt.show()"
   ]
  },
  {
   "cell_type": "code",
   "execution_count": 41,
   "id": "47a11528",
   "metadata": {
    "ExecuteTime": {
     "end_time": "2022-12-24T13:12:22.886541Z",
     "start_time": "2022-12-24T13:12:22.809509Z"
    }
   },
   "outputs": [
    {
     "data": {
      "image/png": "[encoded data removed]",
      "text/plain": [
       "<Figure size 640x480 with 1 Axes>"
      ]
     },
     "metadata": {},
     "output_type": "display_data"
    }
   ],
   "source": [
    "# Distribution plot of distance\n",
    "sn.distplot(q9[\"dist\"])\n",
    "plt.show()"
   ]
  },
  {
   "cell_type": "code",
   "execution_count": 45,
   "id": "aab3e7a3",
   "metadata": {
    "ExecuteTime": {
     "end_time": "2022-12-24T13:14:55.488519Z",
     "start_time": "2022-12-24T13:14:55.475521Z"
    }
   },
   "outputs": [],
   "source": [
    "q9b=pd.read_csv(\"Q9_b.csv\")"
   ]
  },
  {
   "cell_type": "code",
   "execution_count": 46,
   "id": "37f22ec7",
   "metadata": {
    "ExecuteTime": {
     "end_time": "2022-12-24T13:14:59.048974Z",
     "start_time": "2022-12-24T13:14:59.040463Z"
    }
   },
   "outputs": [
    {
     "data": {
      "text/plain": [
       "Unnamed: 0    0.000000\n",
       "SP            1.611450\n",
       "WT           -0.614753\n",
       "dtype: float64"
      ]
     },
     "execution_count": 46,
     "metadata": {},
     "output_type": "execute_result"
    }
   ],
   "source": [
    "q9b.skew()\n",
    "# skewness of SP is positive, So this is Rightskewed data\n",
    "# skewness of sp is negative, so this is left skewed data"
   ]
  },
  {
   "cell_type": "code",
   "execution_count": 47,
   "id": "fcb59d52",
   "metadata": {
    "ExecuteTime": {
     "end_time": "2022-12-24T13:15:15.450740Z",
     "start_time": "2022-12-24T13:15:15.432735Z"
    }
   },
   "outputs": [
    {
     "data": {
      "text/plain": [
       "Unnamed: 0   -1.200000\n",
       "SP            2.977329\n",
       "WT            0.950291\n",
       "dtype: float64"
      ]
     },
     "execution_count": 47,
     "metadata": {},
     "output_type": "execute_result"
    }
   ],
   "source": [
    "q9b.kurt()"
   ]
  },
  {
   "cell_type": "code",
   "execution_count": 48,
   "id": "93c4add6",
   "metadata": {
    "ExecuteTime": {
     "end_time": "2022-12-24T13:41:04.460369Z",
     "start_time": "2022-12-24T13:41:04.376111Z"
    }
   },
   "outputs": [
    {
     "data": {
      "image/png": "[encoded data removed]",
      "text/plain": [
       "<Figure size 640x480 with 1 Axes>"
      ]
     },
     "metadata": {},
     "output_type": "display_data"
    }
   ],
   "source": [
    "sn.distplot(q9b['SP'])\n",
    "plt.show()"
   ]
  },
  {
   "cell_type": "code",
   "execution_count": 49,
   "id": "461860a0",
   "metadata": {
    "ExecuteTime": {
     "end_time": "2022-12-24T13:42:06.444669Z",
     "start_time": "2022-12-24T13:42:06.361999Z"
    }
   },
   "outputs": [
    {
     "data": {
      "image/png": "[encoded data removed]",
      "text/plain": [
       "<Figure size 640x480 with 1 Axes>"
      ]
     },
     "metadata": {},
     "output_type": "display_data"
    }
   ],
   "source": [
    "sn.distplot(q9b['SP'])\n",
    "plt.show()"
   ]
  },
  {
   "cell_type": "code",
   "execution_count": 50,
   "id": "82c063b2",
   "metadata": {
    "ExecuteTime": {
     "end_time": "2022-12-24T13:42:19.954692Z",
     "start_time": "2022-12-24T13:42:19.855874Z"
    }
   },
   "outputs": [
    {
     "data": {
      "image/png": "[encoded data removed]",
      "text/plain": [
       "<Figure size 640x480 with 1 Axes>"
      ]
     },
     "metadata": {},
     "output_type": "display_data"
    }
   ],
   "source": [
    "sn.distplot(q9b[\"WT\"])\n",
    "plt.show()"
   ]
  },
  {
   "cell_type": "markdown",
   "id": "9e9403e1",
   "metadata": {},
   "source": [
    "#  --------------------------------------------------------------------------------------------------------------"
   ]
  },
  {
   "cell_type": "markdown",
   "id": "42463fa6",
   "metadata": {},
   "source": [
    "# Question-11"
   ]
  },
  {
   "cell_type": "raw",
   "id": "164d942d",
   "metadata": {},
   "source": [
    "Suppose we want to estimate the average weight of an adult male in    Mexico. We draw a random sample of 2,000 men from a population of 3,000,000 men and weigh them. We find that the average person in our sample weighs 200 pounds, and the standard deviation of the sample is 30 pounds. Calculate 94%,98%,96% confidence interval?\n",
    "\n",
    ">>> Total population=3,000,000     >>> number of samples=2000    >>> mean of samples=200      >>>standard deviation of sample=30"
   ]
  },
  {
   "cell_type": "code",
   "execution_count": 51,
   "id": "1e8401e1",
   "metadata": {
    "ExecuteTime": {
     "end_time": "2022-12-24T13:46:46.773236Z",
     "start_time": "2022-12-24T13:46:46.765717Z"
    }
   },
   "outputs": [],
   "source": [
    "import scipy\n",
    "from scipy import stats"
   ]
  },
  {
   "cell_type": "code",
   "execution_count": 52,
   "id": "063c47a7",
   "metadata": {
    "ExecuteTime": {
     "end_time": "2022-12-24T13:46:57.087513Z",
     "start_time": "2022-12-24T13:46:57.080359Z"
    }
   },
   "outputs": [
    {
     "data": {
      "text/plain": [
       "(143.57619175546247, 256.42380824453755)"
      ]
     },
     "execution_count": 52,
     "metadata": {},
     "output_type": "execute_result"
    }
   ],
   "source": [
    "stats.norm.interval(0.94,200,30)\n",
    "# to find the interval of 94% confidence level"
   ]
  },
  {
   "cell_type": "code",
   "execution_count": 53,
   "id": "bb832d8f",
   "metadata": {
    "ExecuteTime": {
     "end_time": "2022-12-24T13:47:10.468922Z",
     "start_time": "2022-12-24T13:47:10.454405Z"
    }
   },
   "outputs": [
    {
     "data": {
      "text/plain": [
       "(130.2095637787748, 269.7904362212252)"
      ]
     },
     "execution_count": 53,
     "metadata": {},
     "output_type": "execute_result"
    }
   ],
   "source": [
    "stats.norm.interval(0.98,200,30)\n",
    "# to find the interval of 98% confidence level"
   ]
  },
  {
   "cell_type": "code",
   "execution_count": 54,
   "id": "4f75dde7",
   "metadata": {
    "ExecuteTime": {
     "end_time": "2022-12-24T13:47:27.601421Z",
     "start_time": "2022-12-24T13:47:27.594248Z"
    }
   },
   "outputs": [
    {
     "data": {
      "text/plain": [
       "(138.38753268104531, 261.61246731895466)"
      ]
     },
     "execution_count": 54,
     "metadata": {},
     "output_type": "execute_result"
    }
   ],
   "source": [
    "stats.norm.interval(0.96,200,30)\n",
    "# to find the interval of 96% confidence level"
   ]
  },
  {
   "cell_type": "code",
   "execution_count": 55,
   "id": "eda715e2",
   "metadata": {
    "ExecuteTime": {
     "end_time": "2022-12-24T13:47:41.362689Z",
     "start_time": "2022-12-24T13:47:41.349645Z"
    }
   },
   "outputs": [
    {
     "data": {
      "text/plain": [
       "(138.38753268104531, 261.61246731895466)"
      ]
     },
     "execution_count": 55,
     "metadata": {},
     "output_type": "execute_result"
    }
   ],
   "source": [
    "stats.norm.interval(0.96,200,30)\n",
    "# to find the interval of 96% confidence level"
   ]
  },
  {
   "cell_type": "markdown",
   "id": "448cafb7",
   "metadata": {},
   "source": [
    "#  Question-20\n"
   ]
  },
  {
   "cell_type": "code",
   "execution_count": 59,
   "id": "848a4ba3",
   "metadata": {
    "ExecuteTime": {
     "end_time": "2022-12-24T13:53:38.649383Z",
     "start_time": "2022-12-24T13:53:38.638864Z"
    }
   },
   "outputs": [],
   "source": [
    "import scipy\n",
    "from scipy import stats"
   ]
  },
  {
   "cell_type": "code",
   "execution_count": 61,
   "id": "bca0ff6d",
   "metadata": {
    "ExecuteTime": {
     "end_time": "2022-12-24T13:53:59.190298Z",
     "start_time": "2022-12-24T13:53:59.173267Z"
    }
   },
   "outputs": [],
   "source": [
    "cars=pd.read_csv(\"Cars.csv\")"
   ]
  },
  {
   "cell_type": "code",
   "execution_count": 62,
   "id": "f64e88c1",
   "metadata": {
    "ExecuteTime": {
     "end_time": "2022-12-24T13:54:02.991131Z",
     "start_time": "2022-12-24T13:54:02.970215Z"
    }
   },
   "outputs": [
    {
     "data": {
      "text/html": [
       "<div>\n",
       "<style scoped>\n",
       "    .dataframe tbody tr th:only-of-type {\n",
       "        vertical-align: middle;\n",
       "    }\n",
       "\n",
       "    .dataframe tbody tr th {\n",
       "        vertical-align: top;\n",
       "    }\n",
       "\n",
       "    .dataframe thead th {\n",
       "        text-align: right;\n",
       "    }\n",
       "</style>\n",
       "<table border=\"1\" class=\"dataframe\">\n",
       "  <thead>\n",
       "    <tr style=\"text-align: right;\">\n",
       "      <th></th>\n",
       "      <th>HP</th>\n",
       "      <th>MPG</th>\n",
       "      <th>VOL</th>\n",
       "      <th>SP</th>\n",
       "      <th>WT</th>\n",
       "    </tr>\n",
       "  </thead>\n",
       "  <tbody>\n",
       "    <tr>\n",
       "      <th>0</th>\n",
       "      <td>49</td>\n",
       "      <td>53.700681</td>\n",
       "      <td>89</td>\n",
       "      <td>104.185353</td>\n",
       "      <td>28.762059</td>\n",
       "    </tr>\n",
       "    <tr>\n",
       "      <th>1</th>\n",
       "      <td>55</td>\n",
       "      <td>50.013401</td>\n",
       "      <td>92</td>\n",
       "      <td>105.461264</td>\n",
       "      <td>30.466833</td>\n",
       "    </tr>\n",
       "    <tr>\n",
       "      <th>2</th>\n",
       "      <td>55</td>\n",
       "      <td>50.013401</td>\n",
       "      <td>92</td>\n",
       "      <td>105.461264</td>\n",
       "      <td>30.193597</td>\n",
       "    </tr>\n",
       "    <tr>\n",
       "      <th>3</th>\n",
       "      <td>70</td>\n",
       "      <td>45.696322</td>\n",
       "      <td>92</td>\n",
       "      <td>113.461264</td>\n",
       "      <td>30.632114</td>\n",
       "    </tr>\n",
       "    <tr>\n",
       "      <th>4</th>\n",
       "      <td>53</td>\n",
       "      <td>50.504232</td>\n",
       "      <td>92</td>\n",
       "      <td>104.461264</td>\n",
       "      <td>29.889149</td>\n",
       "    </tr>\n",
       "    <tr>\n",
       "      <th>...</th>\n",
       "      <td>...</td>\n",
       "      <td>...</td>\n",
       "      <td>...</td>\n",
       "      <td>...</td>\n",
       "      <td>...</td>\n",
       "    </tr>\n",
       "    <tr>\n",
       "      <th>76</th>\n",
       "      <td>322</td>\n",
       "      <td>36.900000</td>\n",
       "      <td>50</td>\n",
       "      <td>169.598513</td>\n",
       "      <td>16.132947</td>\n",
       "    </tr>\n",
       "    <tr>\n",
       "      <th>77</th>\n",
       "      <td>238</td>\n",
       "      <td>19.197888</td>\n",
       "      <td>115</td>\n",
       "      <td>150.576579</td>\n",
       "      <td>37.923113</td>\n",
       "    </tr>\n",
       "    <tr>\n",
       "      <th>78</th>\n",
       "      <td>263</td>\n",
       "      <td>34.000000</td>\n",
       "      <td>50</td>\n",
       "      <td>151.598513</td>\n",
       "      <td>15.769625</td>\n",
       "    </tr>\n",
       "    <tr>\n",
       "      <th>79</th>\n",
       "      <td>295</td>\n",
       "      <td>19.833733</td>\n",
       "      <td>119</td>\n",
       "      <td>167.944460</td>\n",
       "      <td>39.423099</td>\n",
       "    </tr>\n",
       "    <tr>\n",
       "      <th>80</th>\n",
       "      <td>236</td>\n",
       "      <td>12.101263</td>\n",
       "      <td>107</td>\n",
       "      <td>139.840817</td>\n",
       "      <td>34.948615</td>\n",
       "    </tr>\n",
       "  </tbody>\n",
       "</table>\n",
       "<p>81 rows × 5 columns</p>\n",
       "</div>"
      ],
      "text/plain": [
       "     HP        MPG  VOL          SP         WT\n",
       "0    49  53.700681   89  104.185353  28.762059\n",
       "1    55  50.013401   92  105.461264  30.466833\n",
       "2    55  50.013401   92  105.461264  30.193597\n",
       "3    70  45.696322   92  113.461264  30.632114\n",
       "4    53  50.504232   92  104.461264  29.889149\n",
       "..  ...        ...  ...         ...        ...\n",
       "76  322  36.900000   50  169.598513  16.132947\n",
       "77  238  19.197888  115  150.576579  37.923113\n",
       "78  263  34.000000   50  151.598513  15.769625\n",
       "79  295  19.833733  119  167.944460  39.423099\n",
       "80  236  12.101263  107  139.840817  34.948615\n",
       "\n",
       "[81 rows x 5 columns]"
      ]
     },
     "execution_count": 62,
     "metadata": {},
     "output_type": "execute_result"
    }
   ],
   "source": [
    "cars"
   ]
  },
  {
   "cell_type": "code",
   "execution_count": 63,
   "id": "247718a7",
   "metadata": {
    "ExecuteTime": {
     "end_time": "2022-12-24T13:54:17.388291Z",
     "start_time": "2022-12-24T13:54:17.370258Z"
    }
   },
   "outputs": [
    {
     "data": {
      "text/plain": [
       "34.422075728024666"
      ]
     },
     "execution_count": 63,
     "metadata": {},
     "output_type": "execute_result"
    }
   ],
   "source": [
    "# Mean of MPG \n",
    "cars.MPG.mean()"
   ]
  },
  {
   "cell_type": "code",
   "execution_count": 64,
   "id": "516a2921",
   "metadata": {
    "ExecuteTime": {
     "end_time": "2022-12-24T13:54:29.863144Z",
     "start_time": "2022-12-24T13:54:29.854625Z"
    }
   },
   "outputs": [
    {
     "data": {
      "text/plain": [
       "9.131444731795982"
      ]
     },
     "execution_count": 64,
     "metadata": {},
     "output_type": "execute_result"
    }
   ],
   "source": [
    "# standard deviation of MPG\n",
    "cars.MPG.std()"
   ]
  },
  {
   "cell_type": "code",
   "execution_count": 65,
   "id": "3b99e08c",
   "metadata": {
    "ExecuteTime": {
     "end_time": "2022-12-24T13:54:41.229591Z",
     "start_time": "2022-12-24T13:54:41.218368Z"
    }
   },
   "outputs": [
    {
     "data": {
      "text/plain": [
       "53.70068138"
      ]
     },
     "execution_count": 65,
     "metadata": {},
     "output_type": "execute_result"
    }
   ],
   "source": [
    "#maximum value in MPG COLUMN\n",
    "cars.MPG.max()"
   ]
  },
  {
   "cell_type": "code",
   "execution_count": 66,
   "id": "b2a61810",
   "metadata": {
    "ExecuteTime": {
     "end_time": "2022-12-24T13:54:54.531457Z",
     "start_time": "2022-12-24T13:54:54.524057Z"
    }
   },
   "outputs": [
    {
     "data": {
      "text/plain": [
       "0.3302177831466958"
      ]
     },
     "execution_count": 66,
     "metadata": {},
     "output_type": "execute_result"
    }
   ],
   "source": [
    "# P(MPG>38)\n",
    "# probability of total MPG-Pobability of MPG<38==>probability of MPG>38\n",
    "stats.norm.cdf(53.70068138,34.422076,9.131445)-stats.norm.cdf(38,34.422076,9.131445)"
   ]
  },
  {
   "cell_type": "code",
   "execution_count": 67,
   "id": "bdde1a89",
   "metadata": {
    "ExecuteTime": {
     "end_time": "2022-12-24T13:55:06.253978Z",
     "start_time": "2022-12-24T13:55:06.238865Z"
    }
   },
   "outputs": [
    {
     "data": {
      "text/plain": [
       "0.7293498604157946"
      ]
     },
     "execution_count": 67,
     "metadata": {},
     "output_type": "execute_result"
    }
   ],
   "source": [
    "# P(MPG<40)\n",
    "# probability of MPG<40\n",
    "stats.norm.cdf(40,34.422076,9.131445)"
   ]
  },
  {
   "cell_type": "code",
   "execution_count": 68,
   "id": "6613c128",
   "metadata": {
    "ExecuteTime": {
     "end_time": "2022-12-24T13:55:18.174552Z",
     "start_time": "2022-12-24T13:55:18.168575Z"
    }
   },
   "outputs": [
    {
     "data": {
      "text/plain": [
       "0.8988689076273199"
      ]
     },
     "execution_count": 68,
     "metadata": {},
     "output_type": "execute_result"
    }
   ],
   "source": [
    "# To find the probability between (20<MPG<50)\n",
    "stats.norm.cdf(50,34.422076,9.131445)-stats.norm.cdf(20,34.422076,9.131445)"
   ]
  },
  {
   "cell_type": "markdown",
   "id": "a0f0c611",
   "metadata": {},
   "source": [
    "# ---------------------------------------------------------------------------------------------------------------"
   ]
  },
  {
   "cell_type": "markdown",
   "id": "50af7434",
   "metadata": {},
   "source": [
    "# Question-21\n"
   ]
  },
  {
   "cell_type": "markdown",
   "id": "efaa6f80",
   "metadata": {},
   "source": [
    "21 a)"
   ]
  },
  {
   "cell_type": "code",
   "execution_count": 69,
   "id": "f6691086",
   "metadata": {
    "ExecuteTime": {
     "end_time": "2022-12-24T13:58:49.449997Z",
     "start_time": "2022-12-24T13:58:49.366188Z"
    }
   },
   "outputs": [
    {
     "data": {
      "text/plain": [
       "<AxesSubplot:xlabel='MPG', ylabel='Density'>"
      ]
     },
     "execution_count": 69,
     "metadata": {},
     "output_type": "execute_result"
    },
    {
     "data": {
      "image/png": "[encoded data removed]",
      "text/plain": [
       "<Figure size 640x480 with 1 Axes>"
      ]
     },
     "metadata": {},
     "output_type": "display_data"
    }
   ],
   "source": [
    "sn.distplot(cars.MPG)"
   ]
  },
  {
   "cell_type": "code",
   "execution_count": 70,
   "id": "4fc10cdc",
   "metadata": {
    "ExecuteTime": {
     "end_time": "2022-12-24T13:59:01.866270Z",
     "start_time": "2022-12-24T13:59:01.854729Z"
    }
   },
   "outputs": [
    {
     "data": {
      "text/plain": [
       "-0.17794674747025727"
      ]
     },
     "execution_count": 70,
     "metadata": {},
     "output_type": "execute_result"
    }
   ],
   "source": [
    "# skewness of MPG\n",
    "cars.MPG.skew()"
   ]
  },
  {
   "cell_type": "code",
   "execution_count": 71,
   "id": "df3fe7ba",
   "metadata": {
    "ExecuteTime": {
     "end_time": "2022-12-24T13:59:12.778503Z",
     "start_time": "2022-12-24T13:59:12.773983Z"
    }
   },
   "outputs": [
    {
     "data": {
      "text/plain": [
       "-0.6116786559430913"
      ]
     },
     "execution_count": 71,
     "metadata": {},
     "output_type": "execute_result"
    }
   ],
   "source": [
    "# kurtosis of MPG\n",
    "cars.MPG.kurt()"
   ]
  },
  {
   "cell_type": "code",
   "execution_count": 72,
   "id": "9045ff19",
   "metadata": {
    "ExecuteTime": {
     "end_time": "2022-12-24T13:59:22.516357Z",
     "start_time": "2022-12-24T13:59:22.496799Z"
    }
   },
   "outputs": [
    {
     "data": {
      "text/plain": [
       "35.15272697"
      ]
     },
     "execution_count": 72,
     "metadata": {},
     "output_type": "execute_result"
    }
   ],
   "source": [
    "cars.MPG.median()"
   ]
  },
  {
   "cell_type": "code",
   "execution_count": 73,
   "id": "dfcae9c6",
   "metadata": {
    "ExecuteTime": {
     "end_time": "2022-12-24T13:59:30.431200Z",
     "start_time": "2022-12-24T13:59:30.426187Z"
    }
   },
   "outputs": [
    {
     "data": {
      "text/plain": [
       "HP     117.469136\n",
       "MPG     34.422076\n",
       "VOL     98.765432\n",
       "SP     121.540272\n",
       "WT      32.412577\n",
       "dtype: float64"
      ]
     },
     "execution_count": 73,
     "metadata": {},
     "output_type": "execute_result"
    }
   ],
   "source": [
    "cars.mean()"
   ]
  },
  {
   "cell_type": "code",
   "execution_count": 74,
   "id": "629304b6",
   "metadata": {
    "ExecuteTime": {
     "end_time": "2022-12-24T13:59:38.947688Z",
     "start_time": "2022-12-24T13:59:38.942178Z"
    }
   },
   "outputs": [
    {
     "data": {
      "text/plain": [
       "0    29.629936\n",
       "Name: MPG, dtype: float64"
      ]
     },
     "execution_count": 74,
     "metadata": {},
     "output_type": "execute_result"
    }
   ],
   "source": [
    "cars.MPG.mode()"
   ]
  },
  {
   "cell_type": "code",
   "execution_count": 75,
   "id": "05eaa3ef",
   "metadata": {
    "ExecuteTime": {
     "end_time": "2022-12-24T13:59:52.142598Z",
     "start_time": "2022-12-24T13:59:52.138336Z"
    }
   },
   "outputs": [],
   "source": [
    "# IN NORMAL DISTRIBUTION MEAN=MEDIAN=MODE,SKEWNESS=\"0\" AND KURTOSIS=3,\n",
    "# SO WE CAN SAY THAT MPG OF CARS DOESNT FOLLOW NORMAL DISTRIBUTION."
   ]
  },
  {
   "cell_type": "markdown",
   "id": "42322046",
   "metadata": {},
   "source": [
    "21 b)"
   ]
  },
  {
   "cell_type": "code",
   "execution_count": 76,
   "id": "ee0d9a94",
   "metadata": {
    "ExecuteTime": {
     "end_time": "2022-12-24T14:00:43.172335Z",
     "start_time": "2022-12-24T14:00:43.156804Z"
    }
   },
   "outputs": [],
   "source": [
    "wc_at=pd.read_csv('wc-at.csv')"
   ]
  },
  {
   "cell_type": "code",
   "execution_count": 77,
   "id": "be0f642e",
   "metadata": {
    "ExecuteTime": {
     "end_time": "2022-12-24T14:00:52.581271Z",
     "start_time": "2022-12-24T14:00:52.559460Z"
    }
   },
   "outputs": [
    {
     "data": {
      "text/html": [
       "<div>\n",
       "<style scoped>\n",
       "    .dataframe tbody tr th:only-of-type {\n",
       "        vertical-align: middle;\n",
       "    }\n",
       "\n",
       "    .dataframe tbody tr th {\n",
       "        vertical-align: top;\n",
       "    }\n",
       "\n",
       "    .dataframe thead th {\n",
       "        text-align: right;\n",
       "    }\n",
       "</style>\n",
       "<table border=\"1\" class=\"dataframe\">\n",
       "  <thead>\n",
       "    <tr style=\"text-align: right;\">\n",
       "      <th></th>\n",
       "      <th>Waist</th>\n",
       "      <th>AT</th>\n",
       "    </tr>\n",
       "  </thead>\n",
       "  <tbody>\n",
       "    <tr>\n",
       "      <th>0</th>\n",
       "      <td>74.75</td>\n",
       "      <td>25.72</td>\n",
       "    </tr>\n",
       "    <tr>\n",
       "      <th>1</th>\n",
       "      <td>72.60</td>\n",
       "      <td>25.89</td>\n",
       "    </tr>\n",
       "    <tr>\n",
       "      <th>2</th>\n",
       "      <td>81.80</td>\n",
       "      <td>42.60</td>\n",
       "    </tr>\n",
       "    <tr>\n",
       "      <th>3</th>\n",
       "      <td>83.95</td>\n",
       "      <td>42.80</td>\n",
       "    </tr>\n",
       "    <tr>\n",
       "      <th>4</th>\n",
       "      <td>74.65</td>\n",
       "      <td>29.84</td>\n",
       "    </tr>\n",
       "    <tr>\n",
       "      <th>...</th>\n",
       "      <td>...</td>\n",
       "      <td>...</td>\n",
       "    </tr>\n",
       "    <tr>\n",
       "      <th>104</th>\n",
       "      <td>100.10</td>\n",
       "      <td>124.00</td>\n",
       "    </tr>\n",
       "    <tr>\n",
       "      <th>105</th>\n",
       "      <td>93.30</td>\n",
       "      <td>62.20</td>\n",
       "    </tr>\n",
       "    <tr>\n",
       "      <th>106</th>\n",
       "      <td>101.80</td>\n",
       "      <td>133.00</td>\n",
       "    </tr>\n",
       "    <tr>\n",
       "      <th>107</th>\n",
       "      <td>107.90</td>\n",
       "      <td>208.00</td>\n",
       "    </tr>\n",
       "    <tr>\n",
       "      <th>108</th>\n",
       "      <td>108.50</td>\n",
       "      <td>208.00</td>\n",
       "    </tr>\n",
       "  </tbody>\n",
       "</table>\n",
       "<p>109 rows × 2 columns</p>\n",
       "</div>"
      ],
      "text/plain": [
       "      Waist      AT\n",
       "0     74.75   25.72\n",
       "1     72.60   25.89\n",
       "2     81.80   42.60\n",
       "3     83.95   42.80\n",
       "4     74.65   29.84\n",
       "..      ...     ...\n",
       "104  100.10  124.00\n",
       "105   93.30   62.20\n",
       "106  101.80  133.00\n",
       "107  107.90  208.00\n",
       "108  108.50  208.00\n",
       "\n",
       "[109 rows x 2 columns]"
      ]
     },
     "execution_count": 77,
     "metadata": {},
     "output_type": "execute_result"
    }
   ],
   "source": [
    "wc_at"
   ]
  },
  {
   "cell_type": "code",
   "execution_count": 78,
   "id": "4935cc9d",
   "metadata": {
    "ExecuteTime": {
     "end_time": "2022-12-24T14:01:04.899212Z",
     "start_time": "2022-12-24T14:01:04.790423Z"
    }
   },
   "outputs": [
    {
     "data": {
      "text/plain": [
       "<AxesSubplot:ylabel='Density'>"
      ]
     },
     "execution_count": 78,
     "metadata": {},
     "output_type": "execute_result"
    },
    {
     "data": {
      "image/png": "[encoded data removed]",
      "text/plain": [
       "<Figure size 640x480 with 1 Axes>"
      ]
     },
     "metadata": {},
     "output_type": "display_data"
    }
   ],
   "source": [
    "sn.distplot(wc_at)"
   ]
  },
  {
   "cell_type": "code",
   "execution_count": 79,
   "id": "93a6a6d4",
   "metadata": {
    "ExecuteTime": {
     "end_time": "2022-12-24T14:01:17.006142Z",
     "start_time": "2022-12-24T14:01:17.000144Z"
    }
   },
   "outputs": [
    {
     "data": {
      "text/plain": [
       "Waist     91.901835\n",
       "AT       101.894037\n",
       "dtype: float64"
      ]
     },
     "execution_count": 79,
     "metadata": {},
     "output_type": "execute_result"
    }
   ],
   "source": [
    "# finds mean for both the columns\n",
    "wc_at.mean()"
   ]
  },
  {
   "cell_type": "code",
   "execution_count": 80,
   "id": "aab68cc5",
   "metadata": {
    "ExecuteTime": {
     "end_time": "2022-12-24T14:02:37.968675Z",
     "start_time": "2022-12-24T14:02:37.961103Z"
    }
   },
   "outputs": [
    {
     "data": {
      "text/plain": [
       "Waist    90.80\n",
       "AT       96.54\n",
       "dtype: float64"
      ]
     },
     "execution_count": 80,
     "metadata": {},
     "output_type": "execute_result"
    }
   ],
   "source": [
    "# finds median for both the columns\n",
    "wc_at.median()"
   ]
  },
  {
   "cell_type": "code",
   "execution_count": 81,
   "id": "93205f9b",
   "metadata": {
    "ExecuteTime": {
     "end_time": "2022-12-24T14:36:16.993366Z",
     "start_time": "2022-12-24T14:36:16.985849Z"
    }
   },
   "outputs": [
    {
     "data": {
      "text/plain": [
       "Waist    0.134056\n",
       "AT       0.584869\n",
       "dtype: float64"
      ]
     },
     "execution_count": 81,
     "metadata": {},
     "output_type": "execute_result"
    }
   ],
   "source": [
    "# finds skewness for both the columns\n",
    "wc_at.skew()"
   ]
  },
  {
   "cell_type": "code",
   "execution_count": 82,
   "id": "101e5444",
   "metadata": {
    "ExecuteTime": {
     "end_time": "2022-12-24T14:36:27.100635Z",
     "start_time": "2022-12-24T14:36:27.090393Z"
    }
   },
   "outputs": [
    {
     "data": {
      "text/plain": [
       "Waist   -1.102667\n",
       "AT      -0.285576\n",
       "dtype: float64"
      ]
     },
     "execution_count": 82,
     "metadata": {},
     "output_type": "execute_result"
    }
   ],
   "source": [
    "# finds kurtosis for both the columns\n",
    "wc_at.kurt()"
   ]
  },
  {
   "cell_type": "code",
   "execution_count": 84,
   "id": "86a38c4f",
   "metadata": {
    "ExecuteTime": {
     "end_time": "2022-12-24T14:37:04.063992Z",
     "start_time": "2022-12-24T14:37:04.046568Z"
    }
   },
   "outputs": [],
   "source": [
    "# THEREFORE FROM THE ABOVE OBSERVATIONS WE CAN SAY CONCLUDE THAT  waist and AT of wc_at data set doesnt follow NORMAL DISTRIBUTION"
   ]
  },
  {
   "cell_type": "markdown",
   "id": "ad64e7a4",
   "metadata": {},
   "source": [
    "#  --------------------------------------------------------------------------------------------------------------\n"
   ]
  },
  {
   "cell_type": "markdown",
   "id": "d7a814d4",
   "metadata": {},
   "source": [
    "#  Question-22"
   ]
  },
  {
   "cell_type": "code",
   "execution_count": 85,
   "id": "11f44d15",
   "metadata": {
    "ExecuteTime": {
     "end_time": "2022-12-24T14:37:54.946879Z",
     "start_time": "2022-12-24T14:37:54.936307Z"
    }
   },
   "outputs": [
    {
     "data": {
      "text/plain": [
       "1.6448536269514722"
      ]
     },
     "execution_count": 85,
     "metadata": {},
     "output_type": "execute_result"
    }
   ],
   "source": [
    "# Z score value for 90% confidence level\n",
    "stats.norm.ppf(0.95)"
   ]
  },
  {
   "cell_type": "code",
   "execution_count": 86,
   "id": "4ba8d97b",
   "metadata": {
    "ExecuteTime": {
     "end_time": "2022-12-24T14:38:05.919389Z",
     "start_time": "2022-12-24T14:38:05.902370Z"
    }
   },
   "outputs": [
    {
     "data": {
      "text/plain": [
       "1.8807936081512509"
      ]
     },
     "execution_count": 86,
     "metadata": {},
     "output_type": "execute_result"
    }
   ],
   "source": [
    "# Z score value for 94% confidence level\n",
    "stats.norm.ppf(0.97)"
   ]
  },
  {
   "cell_type": "code",
   "execution_count": 87,
   "id": "af788cda",
   "metadata": {
    "ExecuteTime": {
     "end_time": "2022-12-24T14:38:15.594768Z",
     "start_time": "2022-12-24T14:38:15.589813Z"
    }
   },
   "outputs": [
    {
     "data": {
      "text/plain": [
       "0.8416212335729143"
      ]
     },
     "execution_count": 87,
     "metadata": {},
     "output_type": "execute_result"
    }
   ],
   "source": [
    "# Z score value for 60% confidence level\n",
    "stats.norm.ppf(0.8)"
   ]
  },
  {
   "cell_type": "markdown",
   "id": "1a67f51d",
   "metadata": {},
   "source": [
    "# ---------------------------------------------------------------------------------------------------------------"
   ]
  },
  {
   "cell_type": "markdown",
   "id": "0f45f36a",
   "metadata": {},
   "source": [
    "#  Question-23"
   ]
  },
  {
   "cell_type": "code",
   "execution_count": 88,
   "id": "847133f0",
   "metadata": {
    "ExecuteTime": {
     "end_time": "2022-12-24T14:38:52.561719Z",
     "start_time": "2022-12-24T14:38:52.546622Z"
    }
   },
   "outputs": [
    {
     "data": {
      "text/plain": [
       "2.0638985616280205"
      ]
     },
     "execution_count": 88,
     "metadata": {},
     "output_type": "execute_result"
    }
   ],
   "source": [
    "# T critical value for 95% confidence level with sample size=25\n",
    "stats.t.ppf(.975,24)"
   ]
  },
  {
   "cell_type": "code",
   "execution_count": 89,
   "id": "16751dc5",
   "metadata": {
    "ExecuteTime": {
     "end_time": "2022-12-24T14:39:10.470543Z",
     "start_time": "2022-12-24T14:39:10.464354Z"
    }
   },
   "outputs": [
    {
     "data": {
      "text/plain": [
       "2.1715446760080677"
      ]
     },
     "execution_count": 89,
     "metadata": {},
     "output_type": "execute_result"
    }
   ],
   "source": [
    "# T critical value for 96% confidence level with sample size=25\n",
    "stats.t.ppf(.98,24)"
   ]
  },
  {
   "cell_type": "code",
   "execution_count": 90,
   "id": "e83af92a",
   "metadata": {
    "ExecuteTime": {
     "end_time": "2022-12-24T14:39:18.884562Z",
     "start_time": "2022-12-24T14:39:18.876132Z"
    }
   },
   "outputs": [
    {
     "data": {
      "text/plain": [
       "2.796939504772804"
      ]
     },
     "execution_count": 90,
     "metadata": {},
     "output_type": "execute_result"
    }
   ],
   "source": [
    "# T critical value for 95% confidence level with sample size=25\n",
    "stats.t.ppf(.995,24)"
   ]
  },
  {
   "cell_type": "markdown",
   "id": "e5f6923b",
   "metadata": {},
   "source": [
    "# ---------------------------------------------------------------------------------------------------------------"
   ]
  },
  {
   "cell_type": "markdown",
   "id": "e0a681f2",
   "metadata": {},
   "source": [
    "#  Question-24"
   ]
  },
  {
   "cell_type": "code",
   "execution_count": 91,
   "id": "cd2c5afb",
   "metadata": {
    "ExecuteTime": {
     "end_time": "2022-12-24T14:41:36.510490Z",
     "start_time": "2022-12-24T14:41:36.494402Z"
    }
   },
   "outputs": [],
   "source": [
    "from scipy import stats\n",
    "from scipy.stats import norm\n"
   ]
  },
  {
   "cell_type": "code",
   "execution_count": 92,
   "id": "7c42519c",
   "metadata": {
    "ExecuteTime": {
     "end_time": "2022-12-24T14:41:53.095291Z",
     "start_time": "2022-12-24T14:41:53.080252Z"
    }
   },
   "outputs": [],
   "source": [
    "# Assume Null Hypothesis is: Ho = Avg life of Bulb >= 260 days\n",
    "# Alternate Hypothesis is: Ha = Avg life of Bulb < 260 days"
   ]
  },
  {
   "cell_type": "code",
   "execution_count": 93,
   "id": "be696107",
   "metadata": {
    "ExecuteTime": {
     "end_time": "2022-12-24T14:47:58.562609Z",
     "start_time": "2022-12-24T14:47:58.550118Z"
    }
   },
   "outputs": [
    {
     "data": {
      "text/plain": [
       "-0.4714045207910317"
      ]
     },
     "execution_count": 93,
     "metadata": {},
     "output_type": "execute_result"
    }
   ],
   "source": [
    "# find t-scores at x=260; t=(s_mean-P_mean)/(s_SD/sqrt(n))\n",
    "t=(260-270)/(90/18**0.5)\n",
    "t"
   ]
  },
  {
   "cell_type": "code",
   "execution_count": 94,
   "id": "6929b859",
   "metadata": {
    "ExecuteTime": {
     "end_time": "2022-12-24T14:48:12.971517Z",
     "start_time": "2022-12-24T14:48:12.966518Z"
    }
   },
   "outputs": [],
   "source": [
    "# Find P(X>=260) for null hypothesis"
   ]
  },
  {
   "cell_type": "code",
   "execution_count": 95,
   "id": "f122b4a0",
   "metadata": {
    "ExecuteTime": {
     "end_time": "2022-12-24T14:48:24.258945Z",
     "start_time": "2022-12-24T14:48:24.246945Z"
    }
   },
   "outputs": [
    {
     "data": {
      "text/plain": [
       "0.32167411684460556"
      ]
     },
     "execution_count": 95,
     "metadata": {},
     "output_type": "execute_result"
    }
   ],
   "source": [
    "# p_value=1-stats.t.cdf(abs(t_scores),df=n-1)... Using cdf function\n",
    "p_value=1-stats.t.cdf(abs(-0.4714),df=17)\n",
    "p_value"
   ]
  },
  {
   "cell_type": "code",
   "execution_count": 96,
   "id": "be93ceed",
   "metadata": {
    "ExecuteTime": {
     "end_time": "2022-12-24T14:48:41.201976Z",
     "start_time": "2022-12-24T14:48:41.195940Z"
    }
   },
   "outputs": [
    {
     "data": {
      "text/plain": [
       "0.32167411684460556"
      ]
     },
     "execution_count": 96,
     "metadata": {},
     "output_type": "execute_result"
    }
   ],
   "source": [
    "#  OR p_value=stats.t.sf(abs(t_score),df=n-1)... Using sf function\n",
    "p_value=stats.t.sf(abs(-0.4714),df=17)\n",
    "p_value"
   ]
  },
  {
   "cell_type": "code",
   "execution_count": null,
   "id": "290cae41",
   "metadata": {},
   "outputs": [],
   "source": []
  }
 ],
 "metadata": {
  "kernelspec": {
   "display_name": "Python 3 (ipykernel)",
   "language": "python",
   "name": "python3"
  },
  "language_info": {
   "codemirror_mode": {
    "name": "ipython",
    "version": 3
   },
   "file_extension": ".py",
   "mimetype": "text/x-python",
   "name": "python",
   "nbconvert_exporter": "python",
   "pygments_lexer": "ipython3",
   "version": "3.9.13"
  }
 },
 "nbformat": 4,
 "nbformat_minor": 5
}
